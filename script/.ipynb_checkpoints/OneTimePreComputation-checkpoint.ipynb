{
 "cells": [
  {
   "cell_type": "code",
   "execution_count": 7,
   "metadata": {
    "collapsed": false
   },
   "outputs": [
    {
     "data": {
      "text/plain": [
       "<module 'UninformedSearchWithDB' from '/Users/sreejithmenon/Google Drive/CS material/DBMS CS 581/ParkingSimulation/script/UninformedSearchWithDB.py'>"
      ]
     },
     "execution_count": 7,
     "metadata": {},
     "output_type": "execute_result"
    }
   ],
   "source": [
    "import UninformedSearchWithDB as UDB\n",
    "import importlib\n",
    "import mysql.connector\n",
    "import json\n",
    "import urllib.request\n",
    "import csv\n",
    "importlib.reload(UDB)"
   ]
  },
  {
   "cell_type": "code",
   "execution_count": 5,
   "metadata": {
    "collapsed": false
   },
   "outputs": [],
   "source": [
    "# cnxObj = UDB.connectToMySQL()\n",
    "# UDB.closeConnection(cnxObj)\n",
    "edgeData = UDB.getParkingDataUninform() # all parking blocks\n"
   ]
  },
  {
   "cell_type": "code",
   "execution_count": 35,
   "metadata": {
    "collapsed": false
   },
   "outputs": [],
   "source": [
    "# driving distance calculations - from intersections to parking blocks\n",
    "blockToBlock = []\n",
    "for i in range(37,len(edgeData)):\n",
    "    ixcord = float(edgeData[i]['midptLat'])\n",
    "    iycord = float(edgeData[i]['midptLong'])\n",
    "    point1 = UDB.Point(ixcord,iycord)\n",
    "    for j in range(len(edgeData)):\n",
    "        jxcord = float(edgeData[j]['midptLat'])\n",
    "        jycord = float(edgeData[j]['midptLong'])\n",
    "        point2 = UDB.Point(jxcord,jycord)\n",
    "        distance,time = point1.distanceFromAPI(point2)\n",
    "        if distance == None:\n",
    "            print(\"exiting at i=%d j=%d\" %(i,j))\n",
    "            break\n",
    "        else:\n",
    "            blockDict = {'block1':edgeData[i]['blockID'],'sourceLat':edgeData[i]['midptLat'],'sourceLong':edgeData[i]['midptLong'],'block2':edgeData[j]['blockID'],'destLat':edgeData[j]['midptLat'],'destLong':edgeData[j]['midptLong'],'distance':distance,'time':time}\n",
    "            blockToBlock.append(blockDict)\n",
    "            break\n",
    "    break"
   ]
  },
  {
   "cell_type": "code",
   "execution_count": null,
   "metadata": {
    "collapsed": false
   },
   "outputs": [],
   "source": [
    "writeFL = open(\"../data/blockToBlock.csv\",\"w\")\n",
    "head = ['start_block','end_block','distance','time']\n",
    "writer = csv.writer(writeFL)\n",
    "writer.writerow(head)\n",
    "for row in blockToBlock:\n",
    "    writer.writerow([row['block1'],row['sourceLat'],row['sourceLong'],row['block2'],row['destLat'],row['destLong'],row['distance'],row['time']])\n",
    "writeFL.close()"
   ]
  },
  {
   "cell_type": "code",
   "execution_count": 6,
   "metadata": {
    "collapsed": false
   },
   "outputs": [
    {
     "data": {
      "text/plain": [
       "'Success. Connection closed.'"
      ]
     },
     "execution_count": 6,
     "metadata": {},
     "output_type": "execute_result"
    }
   ],
   "source": [
    "# Get all parking block information\n",
    "cnx = UDB.connectToMySQL()\n",
    "cursor = cnx.cursor()\n",
    "query = (\"SELECT node_id,latitude,longitude FROM parkingproject.nodes;\")\n",
    "cursor.execute(query)\n",
    "\n",
    "nodeData = []\n",
    "for node_id,latitude,longitude in cursor:\n",
    "    nodeDataDict = {}\n",
    "    nodeDataDict['node_id'] = node_id\n",
    "    nodeDataDict['latitude'] = latitude\n",
    "    nodeDataDict['longitude'] = longitude\n",
    "    nodeData.append(nodeDataDict)\n",
    "\n",
    "UDB.closeConnection(cnx)"
   ]
  },
  {
   "cell_type": "code",
   "execution_count": 45,
   "metadata": {
    "collapsed": false
   },
   "outputs": [],
   "source": [
    "# logic to calculate driving distances from every parking block to each other\n",
    "edgeToBlock = []\n",
    "for i in range(37,len(nodeData)):\n",
    "    ixcord = float(nodeData[i]['latitude'])\n",
    "    iycord = float(nodeData[i]['longitude'])\n",
    "    point1 = UDB.Point(ixcord,iycord)\n",
    "    for j in range(len(edgeData)):\n",
    "        jxcord = float(edgeData[j]['midptLat'])\n",
    "        jycord = float(edgeData[j]['midptLong'])\n",
    "        point2 = UDB.Point(jxcord,jycord)\n",
    "        distance,time = point1.distanceFromAPI(point2)\n",
    "        if distance == None:\n",
    "            print(\"exiting at i=%d j=%d\" %(i,j))\n",
    "            break\n",
    "        else:\n",
    "            blockDict = {'block1':nodeData[i]['node_id'],\n",
    "                         'sourceLat':nodeData[i]['latitude'],\n",
    "                         'sourceLong':nodeData[i]['longitude'],\n",
    "                         'block2':edgeData[j]['blockID'],\n",
    "                         'destLat':edgeData[j]['midptLat'],\n",
    "                         'destLong':edgeData[j]['midptLong'],\n",
    "                         'distance':distance,\n",
    "                         'time':time}\n",
    "            edgeToBlock.append(blockDict)"
   ]
  },
  {
   "cell_type": "code",
   "execution_count": 47,
   "metadata": {
    "collapsed": true
   },
   "outputs": [],
   "source": [
    "writeFL = open(\"../data/edgeToBlock1.csv\",\"w\")\n",
    "head = ['node_id','nodeLat','nodeLong','block_id','edgeLat','edgeLong','distance','time']\n",
    "writer = csv.writer(writeFL)\n",
    "writer.writerow(head)\n",
    "for row in edgeToBlock:\n",
    "    writer.writerow([row['block1'],row['sourceLat'],row['sourceLong'],row['block2'],row['destLat'],row['destLong'],row['distance'],row['time']])\n",
    "writeFL.close()"
   ]
  },
  {
   "cell_type": "code",
   "execution_count": 9,
   "metadata": {
    "collapsed": false
   },
   "outputs": [],
   "source": [
    "# Walking distance calculations from parking blocks to intersections\n",
    "\n",
    "edgeToBlockWalk = []\n",
    "for i in range(len(edgeData)):\n",
    "    ixcord = float(edgeData[i]['midptLat'])\n",
    "    iycord = float(edgeData[i]['midptLong'])\n",
    "    point1 = UDB.Point(ixcord,iycord)\n",
    "    for j in range(len(nodeData)):\n",
    "        jxcord = float(nodeData[j]['latitude'])\n",
    "        jycord = float(nodeData[j]['longitude'])\n",
    "        point2 = UDB.Point(jxcord,jycord)\n",
    "        distance,time = point1.distanceFromAPI(point2)\n",
    "        if distance == None:\n",
    "            print(\"exiting at i=%d j=%d\" %(i,j))\n",
    "            break\n",
    "        else:\n",
    "            blockDict = {'block2':nodeData[j]['node_id'],\n",
    "                         'block1':edgeData[i]['blockID'],\n",
    "                         'distance':distance,\n",
    "                         'time':time}\n",
    "            edgeToBlockWalk.append(blockDict)\n",
    "            break\n",
    "    break"
   ]
  },
  {
   "cell_type": "code",
   "execution_count": 10,
   "metadata": {
    "collapsed": false
   },
   "outputs": [
    {
     "data": {
      "text/plain": [
       "[{'block1': 7001,\n",
       "  'block2': 325031,\n",
       "  'destLat': '37.80565077450000000',\n",
       "  'destLong': '-122.412769060550000',\n",
       "  'distance': 1051,\n",
       "  'sourceLat': '37.806249',\n",
       "  'sourceLong': '-122.423884',\n",
       "  'time': 778}]"
      ]
     },
     "execution_count": 10,
     "metadata": {},
     "output_type": "execute_result"
    }
   ],
   "source": [
    "edgeToBlockWalk"
   ]
  },
  {
   "cell_type": "code",
   "execution_count": null,
   "metadata": {
    "collapsed": true
   },
   "outputs": [],
   "source": []
  }
 ],
 "metadata": {
  "kernelspec": {
   "display_name": "Python 3",
   "language": "python",
   "name": "python3"
  },
  "language_info": {
   "codemirror_mode": {
    "name": "ipython",
    "version": 3
   },
   "file_extension": ".py",
   "mimetype": "text/x-python",
   "name": "python",
   "nbconvert_exporter": "python",
   "pygments_lexer": "ipython3",
   "version": "3.5.1"
  }
 },
 "nbformat": 4,
 "nbformat_minor": 0
}
